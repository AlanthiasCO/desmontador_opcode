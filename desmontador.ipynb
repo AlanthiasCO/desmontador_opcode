{
 "cells": [
  {
   "cell_type": "markdown",
   "metadata": {},
   "source": [
    "Ferramenta para desmontar bytecodes de contratos inteligentes em seus respectivos opcodes.\n",
    "\n",
    "A ferramenta faz web scraping no site https://ethervm.io e coleta os bytecodes e seus respectivos opcodes, criando um dicionario que permite desmontar grandes quantidade de bytecodes (desde que estejam em um arquivo .csv).\n",
    "\n",
    "Basta organizar o seu dataset com o cabeçalho 'bytecode' e 'category' e inserir ele em 'input_csv'. Ao rodar, será gerado um novo dataset chamado 'output.csv' que terá todos os opcodes respectivos ao seu dataset de origem inserido em 'input.csv'.\n",
    "\n",
    "TO-DO: Aceitar outros tipos, como JSON.\n"
   ]
  },
  {
   "cell_type": "code",
   "execution_count": 20,
   "metadata": {},
   "outputs": [],
   "source": [
    "import csv\n",
    "import requests\n",
    "from bs4 import BeautifulSoup"
   ]
  },
  {
   "cell_type": "code",
   "execution_count": 25,
   "metadata": {},
   "outputs": [],
   "source": [
    "# web scraping\n",
    "def fetch_bytecodes_and_opcodes(url):\n",
    "    response = requests.get(url)\n",
    "    soup = BeautifulSoup(response.content, 'html.parser')\n",
    "\n",
    "    # Localize a tabela de opcodes\n",
    "    table = soup.find('table', class_='opcodes') \n",
    "    rows = table.find_all('tr')\n",
    "\n",
    "    # Dicionário\n",
    "    bytecodes_to_opcodes = {}\n",
    "\n",
    "    for row in rows:\n",
    "        # tag <a> com os atributos id e name\n",
    "        link = row.find('a', class_='anchor')\n",
    "        if link and 'id' in link.attrs and 'name' in link.attrs:\n",
    "            bytecode = link['id']\n",
    "            opcode = link['name']\n",
    "\n",
    "            bytecodes_to_opcodes[f\"0x{bytecode}\"] = opcode\n",
    "\n",
    "    return bytecodes_to_opcodes"
   ]
  },
  {
   "cell_type": "code",
   "execution_count": 26,
   "metadata": {},
   "outputs": [],
   "source": [
    "# Desmontador (disassembler)\n",
    "def convert_bytecode_to_opcodes(bytecode, opcode_dict):\n",
    "    if bytecode.startswith(\"0x\"):\n",
    "        bytecode = bytecode[2:]  # Remove o prefixo '0x'\n",
    "\n",
    "    opcodes = []\n",
    "    i = 0\n",
    "    while i < len(bytecode):\n",
    "        byte = bytecode[i:i+2].upper()  # Obter 2 caracteres\n",
    "        opcode = opcode_dict.get(f\"0x{byte}\", f\"UNKNOWN({byte})\")\n",
    "\n",
    "        # Ignorar opcodes desconhecidos\n",
    "        if opcode.startswith(\"UNKNOWN\"):\n",
    "            i += 2  # Pular para o próximo byte\n",
    "            continue\n",
    "\n",
    "        # Simplificação de instruções variáveis\n",
    "        # Estudar a necessidade das outras generalizações.\n",
    "        if opcode.startswith(\"PUSH\"):\n",
    "            opcode = \"PUSH\"  # Generalizar todas as instruções PUSH\n",
    "        elif opcode.startswith(\"DUP\"):\n",
    "            opcode = \"DUP\"  # Generalizar todas as instruções DUP\n",
    "        elif opcode.startswith(\"SWAP\"):\n",
    "            opcode = \"SWAP\"  # Generalizar todas as instruções SWAP\n",
    "        elif opcode.startswith(\"LOG\"):\n",
    "            opcode = \"LOG\"  # Generalizar todas as instruções LOG\n",
    "\n",
    "        opcodes.append(opcode)\n",
    "\n",
    "        # Tratar instruções PUSH (ignorar bytes adicionais)\n",
    "        if opcode == \"PUSH\":\n",
    "            push_bytes = int(byte, 16) - 0x60 + 1\n",
    "            i += push_bytes * 2  # Ignorar os bytes PUSH\n",
    "        i += 2  # Próximo byte\n",
    "\n",
    "    return opcodes"
   ]
  },
  {
   "cell_type": "code",
   "execution_count": 27,
   "metadata": {},
   "outputs": [],
   "source": [
    "# Ler, desmontar e criar um novo dataset\n",
    "def process_csv(input_file, output_file, opcode_dict):\n",
    "    with open(input_file, mode='r', newline='', encoding='utf-8') as infile:\n",
    "        reader = csv.DictReader(infile)\n",
    "        \n",
    "        # Criando um novo arquivo CSV com as colunas 'Opcodes' e 'CATEGORY'\n",
    "        with open(output_file, mode='w', newline='', encoding='utf-8') as outfile:\n",
    "            fieldnames = ['Opcodes', 'CATEGORY']\n",
    "            writer = csv.DictWriter(outfile, fieldnames=fieldnames)\n",
    "            writer.writeheader()\n",
    "            \n",
    "            for row in reader:\n",
    "                bytecode = row['bytecode']  # Use o nome exato da coluna de bytecode\n",
    "                category = row['category']  # Use o nome exato da coluna de categoria\n",
    "                opcodes = convert_bytecode_to_opcodes(bytecode, opcode_dict)\n",
    "                opcodes_str = \" \".join(opcodes) \n",
    "\n",
    "                writer.writerow({'Opcodes': opcodes_str, 'CATEGORY': category})"
   ]
  },
  {
   "cell_type": "code",
   "execution_count": 29,
   "metadata": {},
   "outputs": [],
   "source": [
    "# Use a ferramenta aqui\n",
    "url = \"https://ethervm.io\"  # URL onde os bytecodes e opcodes estão\n",
    "bytecodes_opcodes = fetch_bytecodes_and_opcodes(url)\n",
    "\n",
    "input_csv = 'final_dataset.csv'  # Nome do arquivo CSV de entrada\n",
    "output_csv = 'output.csv'  # Nome do arquivo CSV de saída\n",
    "\n",
    "process_csv(input_csv, output_csv, bytecodes_opcodes)"
   ]
  }
 ],
 "metadata": {
  "kernelspec": {
   "display_name": "base",
   "language": "python",
   "name": "python3"
  },
  "language_info": {
   "codemirror_mode": {
    "name": "ipython",
    "version": 3
   },
   "file_extension": ".py",
   "mimetype": "text/x-python",
   "name": "python",
   "nbconvert_exporter": "python",
   "pygments_lexer": "ipython3",
   "version": "3.12.7"
  }
 },
 "nbformat": 4,
 "nbformat_minor": 2
}
